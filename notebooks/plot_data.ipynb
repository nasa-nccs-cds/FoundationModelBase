{
 "cells": [
  {
   "cell_type": "code",
   "execution_count": null,
   "id": "6cc19910a1b76d18",
   "metadata": {
    "collapsed": false
   },
   "outputs": [],
   "source": [
    "%matplotlib ipympl\n",
    "from fmbase.source.merra2.model import FMBatch, BatchType\n",
    "import xarray as xa\n",
    "from fmbase.plot.image import mplplot\n",
    "import hydra, dataclasses\n",
    "from datetime import date\n",
    "from fmbase.util.config import configure, cfg\n",
    "from typing import List, Union, Tuple, Optional, Dict, Type\n",
    "from fmbase.util.logging import lgm, exception_handled, log_timing\n",
    "\n",
    "hydra.initialize(version_base=None, config_path=\"../config\")\n",
    "configure('merra2-finetuning')"
   ]
  },
  {
   "cell_type": "code",
   "execution_count": null,
   "outputs": [],
   "source": [
    "year, month, day = cfg().task.year, cfg().task.month, cfg().task.day\n",
    "reference_date = date(year, month, day)\n",
    "day_offset = 0\n",
    "lgm().log(\"Init Logging\")\n",
    "\n",
    "fmbatch: FMBatch = FMBatch(cfg().task, BatchType.Forecast)\n",
    "norms: Dict[str, xa.Dataset] = fmbatch.norm_data\n",
    "error_threshold = cfg().task.error_threshold\n",
    "fmbatch.load_batch(reference_date)"
   ],
   "metadata": {
    "collapsed": false
   },
   "id": "b1412f3f7cbcfa0d"
  },
  {
   "cell_type": "code",
   "execution_count": null,
   "outputs": [],
   "source": [
    "train_data: xa.Dataset = fmbatch.get_train_data(day_offset)\n",
    "target_vars = cfg().task.target_vars\n",
    "\n",
    "mplplot( train_data, target_vars[:2] )"
   ],
   "metadata": {
    "collapsed": true
   },
   "id": "initial_id"
  }
 ],
 "metadata": {
  "kernelspec": {
   "display_name": "Python 3",
   "language": "python",
   "name": "python3"
  },
  "language_info": {
   "codemirror_mode": {
    "name": "ipython",
    "version": 2
   },
   "file_extension": ".py",
   "mimetype": "text/x-python",
   "name": "python",
   "nbconvert_exporter": "python",
   "pygments_lexer": "ipython2",
   "version": "2.7.6"
  }
 },
 "nbformat": 4,
 "nbformat_minor": 5
}
